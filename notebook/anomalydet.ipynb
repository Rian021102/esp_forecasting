{
 "cells": [
  {
   "cell_type": "code",
   "execution_count": 27,
   "metadata": {},
   "outputs": [],
   "source": [
    "from keras.layers import LSTM\n",
    "from keras.models import Sequential\n",
    "import numpy as np\n",
    "import pandas as pd\n",
    "import matplotlib.pyplot as plt\n",
    "import seaborn as sns\n",
    "#standardize the data\n",
    "from sklearn.preprocessing import StandardScaler"
   ]
  },
  {
   "cell_type": "code",
   "execution_count": 28,
   "metadata": {},
   "outputs": [],
   "source": [
    "def load_data(path):\n",
    "    df = pd.read_csv(path)\n",
    "    print(df.info())\n",
    "    #convert the date to datetime\n",
    "    df['Date'] = pd.to_datetime(df['Date'])\n",
    "    print(df.head())\n",
    "    print(df.info())\n",
    "    return df\n"
   ]
  },
  {
   "cell_type": "code",
   "execution_count": 29,
   "metadata": {},
   "outputs": [
    {
     "name": "stdout",
     "output_type": "stream",
     "text": [
      "<class 'pandas.core.frame.DataFrame'>\n",
      "RangeIndex: 202978 entries, 0 to 202977\n",
      "Data columns (total 10 columns):\n",
      " #   Column           Non-Null Count   Dtype  \n",
      "---  ------           --------------   -----  \n",
      " 0   Well             202978 non-null  object \n",
      " 1   Date             202978 non-null  object \n",
      " 2   Hours_Online     91217 non-null   float64\n",
      " 3   Freq             79585 non-null   float64\n",
      " 4   Ampere           83274 non-null   float64\n",
      " 5   Volt             76026 non-null   float64\n",
      " 6   Press_Discharge  57558 non-null   float64\n",
      " 7   TM               39661 non-null   float64\n",
      " 8   Vibration        36035 non-null   float64\n",
      " 9   Gross_Rate       85310 non-null   float64\n",
      "dtypes: float64(8), object(2)\n",
      "memory usage: 15.5+ MB\n",
      "None\n",
      "  Well       Date  Hours_Online  Freq  Ampere   Volt  Press_Discharge     TM  \\\n",
      "0  BC1 2011-09-02          24.0   NaN    19.2  343.2              NaN  175.0   \n",
      "1  BC1 2011-09-03          24.0   NaN    18.3  339.6              NaN  177.4   \n",
      "2  BC1 2011-09-04          24.0   NaN    18.0  341.0              NaN  177.0   \n",
      "3  BC1 2011-09-05          24.0   NaN    19.2  343.0              NaN  178.0   \n",
      "4  BC1 2011-09-06          24.0   NaN    18.3  339.6              NaN  178.4   \n",
      "\n",
      "   Vibration   Gross_Rate  \n",
      "0      2.795  1577.005714  \n",
      "1      2.670  1577.005714  \n",
      "2      2.711  1577.005714  \n",
      "3      2.641  1577.005714  \n",
      "4      2.500  1577.005714  \n",
      "<class 'pandas.core.frame.DataFrame'>\n",
      "RangeIndex: 202978 entries, 0 to 202977\n",
      "Data columns (total 10 columns):\n",
      " #   Column           Non-Null Count   Dtype         \n",
      "---  ------           --------------   -----         \n",
      " 0   Well             202978 non-null  object        \n",
      " 1   Date             202978 non-null  datetime64[ns]\n",
      " 2   Hours_Online     91217 non-null   float64       \n",
      " 3   Freq             79585 non-null   float64       \n",
      " 4   Ampere           83274 non-null   float64       \n",
      " 5   Volt             76026 non-null   float64       \n",
      " 6   Press_Discharge  57558 non-null   float64       \n",
      " 7   TM               39661 non-null   float64       \n",
      " 8   Vibration        36035 non-null   float64       \n",
      " 9   Gross_Rate       85310 non-null   float64       \n",
      "dtypes: datetime64[ns](1), float64(8), object(1)\n",
      "memory usage: 15.5+ MB\n",
      "None\n"
     ]
    }
   ],
   "source": [
    "path='/Users/rianrachmanto/pypro/data/esp_new.csv'\n",
    "df = load_data(path)"
   ]
  },
  {
   "cell_type": "code",
   "execution_count": 30,
   "metadata": {},
   "outputs": [],
   "source": [
    "def select_freq(df, well_name):\n",
    "    # Filter the DataFrame for the given well name\n",
    "    df_freq = df[df['Well'] == well_name][['Well', 'Date', 'Freq']]\n",
    "    print(df_freq.head())\n",
    "    return df_freq\n"
   ]
  },
  {
   "cell_type": "code",
   "execution_count": 31,
   "metadata": {},
   "outputs": [
    {
     "name": "stdout",
     "output_type": "stream",
     "text": [
      "     Well       Date  Freq\n",
      "9277  BS3 2011-09-01   NaN\n",
      "9278  BS3 2011-09-02   NaN\n",
      "9279  BS3 2011-09-03   NaN\n",
      "9280  BS3 2011-09-04   NaN\n",
      "9281  BS3 2011-09-05   NaN\n"
     ]
    }
   ],
   "source": [
    "df_freq = select_freq(df, 'BS3')"
   ]
  },
  {
   "cell_type": "code",
   "execution_count": 32,
   "metadata": {},
   "outputs": [],
   "source": [
    "def train_test (df_freq):\n",
    "    #split based on length of the data with 80% training and 20% testing\n",
    "    train_size = int(len(df_freq) * 0.8)\n",
    "    test_size = len(df_freq) - train_size\n",
    "    train, test = df_freq.iloc[0:train_size], df_freq.iloc[train_size:len(df_freq)]\n",
    "    print(train.shape, test.shape)\n",
    "    print(train.head())\n",
    "    return train, test"
   ]
  },
  {
   "cell_type": "code",
   "execution_count": 33,
   "metadata": {},
   "outputs": [
    {
     "name": "stdout",
     "output_type": "stream",
     "text": [
      "(3711, 3) (928, 3)\n",
      "     Well       Date  Freq\n",
      "9277  BS3 2011-09-01   NaN\n",
      "9278  BS3 2011-09-02   NaN\n",
      "9279  BS3 2011-09-03   NaN\n",
      "9280  BS3 2011-09-04   NaN\n",
      "9281  BS3 2011-09-05   NaN\n"
     ]
    }
   ],
   "source": [
    "train, test = train_test(df_freq)"
   ]
  },
  {
   "cell_type": "code",
   "execution_count": 34,
   "metadata": {},
   "outputs": [],
   "source": [
    "def clean_train(train):\n",
    "    #drop all the missing values\n",
    "    train = train.dropna()\n",
    "    print(train.shape)\n",
    "    print(train.head())\n",
    "    return train\n",
    "\n",
    "def clean_test(test):\n",
    "    #drop all the missing values\n",
    "    test = test.dropna()\n",
    "    print(test.shape)\n",
    "    print(test.head())\n",
    "    return test"
   ]
  },
  {
   "cell_type": "code",
   "execution_count": 35,
   "metadata": {},
   "outputs": [
    {
     "name": "stdout",
     "output_type": "stream",
     "text": [
      "(677, 3)\n",
      "     Well       Date  Freq\n",
      "9891  BS3 2013-05-07  60.0\n",
      "9892  BS3 2013-05-08  60.0\n",
      "9893  BS3 2013-05-09  60.0\n",
      "9894  BS3 2013-05-10  60.0\n",
      "9895  BS3 2013-05-11  60.0\n",
      "(571, 3)\n",
      "      Well       Date  Freq\n",
      "13135  BS3 2022-03-25  43.0\n",
      "13136  BS3 2022-03-26  45.0\n",
      "13142  BS3 2022-04-01  53.0\n",
      "13143  BS3 2022-04-02  53.0\n",
      "13144  BS3 2022-04-03  53.0\n"
     ]
    }
   ],
   "source": [
    "train = clean_train(train)\n",
    "test = clean_test(test)"
   ]
  },
  {
   "cell_type": "code",
   "execution_count": 36,
   "metadata": {},
   "outputs": [],
   "source": [
    "#plot the data as time series\n",
    "def plot_data(train):\n",
    "    plt.figure(figsize=(12,6))\n",
    "    plt.plot(train['Date'], train['Freq'])\n",
    "    plt.title('Frequency vs Time')\n",
    "    plt.ylabel('Frequency')\n",
    "    plt.xlabel('Date')\n",
    "    plt.show()"
   ]
  },
  {
   "cell_type": "code",
   "execution_count": 37,
   "metadata": {},
   "outputs": [
    {
     "data": {
      "image/png": "[encoded data removed]",
      "text/plain": [
       "<Figure size 864x432 with 1 Axes>"
      ]
     },
     "metadata": {
      "needs_background": "light"
     },
     "output_type": "display_data"
    }
   ],
   "source": [
    "plot_data(train)"
   ]
  },
  {
   "cell_type": "code",
   "execution_count": 42,
   "metadata": {},
   "outputs": [],
   "source": [
    "#preprocess train data to standardize the data\n",
    "def preprocess_train(train, test):\n",
    "    # Create copies of the input DataFrames to avoid modifying original data\n",
    "    scaled_train = train.copy()\n",
    "    scaled_test = test.copy()\n",
    "\n",
    "    # Initialize the scaler\n",
    "    scaler = StandardScaler()\n",
    "\n",
    "    # Fit the scaler on the training data\n",
    "    scaler = scaler.fit(train[['Freq']])\n",
    "\n",
    "    # Transform the 'Freq' column for both training and testing data\n",
    "    scaled_train['Freq'] = scaler.transform(train[['Freq']])\n",
    "    scaled_test['Freq'] = scaler.transform(test[['Freq']])\n",
    "\n",
    "    print(scaled_train.head())\n",
    "    return scaled_train, scaled_test\n"
   ]
  },
  {
   "cell_type": "code",
   "execution_count": 43,
   "metadata": {},
   "outputs": [
    {
     "name": "stdout",
     "output_type": "stream",
     "text": [
      "     Well       Date      Freq\n",
      "9891  BS3 2013-05-07  0.131845\n",
      "9892  BS3 2013-05-08  0.131845\n",
      "9893  BS3 2013-05-09  0.131845\n",
      "9894  BS3 2013-05-10  0.131845\n",
      "9895  BS3 2013-05-11  0.131845\n"
     ]
    }
   ],
   "source": [
    "scaled_train,scaled_test = preprocess_train(train,test)"
   ]
  },
  {
   "cell_type": "code",
   "execution_count": 46,
   "metadata": {},
   "outputs": [],
   "source": [
    "import numpy as np\n",
    "\n",
    "def create_sequences(data, n_steps):\n",
    "    X = []\n",
    "    for i in range(len(data) - n_steps):\n",
    "        # Define the end of the sequence\n",
    "        end_ix = i + n_steps\n",
    "        # Gather input and output parts of the pattern\n",
    "        seq_x = data[i:end_ix]\n",
    "        X.append(seq_x)\n",
    "    return np.array(X)\n"
   ]
  },
  {
   "cell_type": "code",
   "execution_count": 47,
   "metadata": {},
   "outputs": [
    {
     "name": "stdout",
     "output_type": "stream",
     "text": [
      "Training data shape: (667, 10)\n",
      "Test data shape: (561, 10)\n"
     ]
    }
   ],
   "source": [
    "# Assuming you have already called preprocess_train and obtained scaled_train and scaled_test\n",
    "n_steps = 10\n",
    "# Convert DataFrame to numpy array for easier manipulation\n",
    "train_freq = scaled_train['Freq'].values\n",
    "test_freq = scaled_test['Freq'].values\n",
    "\n",
    "# Create sequences\n",
    "X_train = create_sequences(train_freq, n_steps)\n",
    "X_test = create_sequences(test_freq, n_steps)\n",
    "\n",
    "# Print the shapes to understand the dimensions\n",
    "print(\"Training data shape:\", X_train.shape)\n",
    "print(\"Test data shape:\", X_test.shape)\n"
   ]
  },
  {
   "cell_type": "code",
   "execution_count": 48,
   "metadata": {},
   "outputs": [
    {
     "name": "stdout",
     "output_type": "stream",
     "text": [
      "Reshaped training data shape: (667, 10, 1)\n",
      "Reshaped test data shape: (561, 10, 1)\n"
     ]
    }
   ],
   "source": [
    "# Reshape the data for LSTM model\n",
    "X_train = X_train.reshape((X_train.shape[0], X_train.shape[1], 1))\n",
    "X_test = X_test.reshape((X_test.shape[0], X_test.shape[1], 1))\n",
    "\n",
    "print(\"Reshaped training data shape:\", X_train.shape)\n",
    "print(\"Reshaped test data shape:\", X_test.shape)\n"
   ]
  },
  {
   "cell_type": "code",
   "execution_count": 49,
   "metadata": {},
   "outputs": [
    {
     "name": "stdout",
     "output_type": "stream",
     "text": [
      "WARNING:tensorflow:Layer lstm will not use cuDNN kernels since it doesn't meet the criteria. It will use a generic GPU kernel as fallback when running on GPU.\n",
      "WARNING:tensorflow:Layer lstm_1 will not use cuDNN kernels since it doesn't meet the criteria. It will use a generic GPU kernel as fallback when running on GPU.\n",
      "Model: \"sequential_2\"\n",
      "_________________________________________________________________\n",
      " Layer (type)                Output Shape              Param #   \n",
      "=================================================================\n",
      " sequential (Sequential)     (None, 10, 32)            4352      \n",
      "                                                                 \n",
      " sequential_1 (Sequential)   (None, 10, 1)             8353      \n",
      "                                                                 \n",
      "=================================================================\n",
      "Total params: 12705 (49.63 KB)\n",
      "Trainable params: 12705 (49.63 KB)\n",
      "Non-trainable params: 0 (0.00 Byte)\n",
      "_________________________________________________________________\n"
     ]
    }
   ],
   "source": [
    "from keras.models import Sequential\n",
    "from keras.layers import LSTM, RepeatVector, TimeDistributed, Dense\n",
    "\n",
    "def build_autoencoder(timesteps, n_features):\n",
    "    # Encoder\n",
    "    encoder = Sequential()\n",
    "    encoder.add(LSTM(32, activation='relu', input_shape=(timesteps, n_features), return_sequences=False))\n",
    "    encoder.add(RepeatVector(timesteps))  # This helps to repeat the context vector for the decoder\n",
    "\n",
    "    # Decoder\n",
    "    decoder = Sequential()\n",
    "    decoder.add(LSTM(32, activation='relu', return_sequences=True))\n",
    "    decoder.add(TimeDistributed(Dense(n_features)))  # Wraps Dense layer to output sequence\n",
    "\n",
    "    # Autoencoder\n",
    "    autoencoder = Sequential([encoder, decoder])\n",
    "    autoencoder.compile(optimizer='adam', loss='mse')\n",
    "\n",
    "    return autoencoder\n",
    "\n",
    "# Define your autoencoder model\n",
    "timesteps = 10  # Number of time steps in each sequence\n",
    "n_features = 1  # You have one feature per time step (Freq)\n",
    "autoencoder = build_autoencoder(timesteps, n_features)\n",
    "autoencoder.summary()  # Print the model architecture\n"
   ]
  },
  {
   "cell_type": "code",
   "execution_count": 50,
   "metadata": {},
   "outputs": [
    {
     "name": "stdout",
     "output_type": "stream",
     "text": [
      "Epoch 1/50\n",
      "19/19 [==============================] - 26s 935ms/step - loss: 1.0790 - val_loss: 0.1908\n",
      "Epoch 2/50\n",
      "19/19 [==============================] - 8s 405ms/step - loss: 1.0226 - val_loss: 0.1020\n",
      "Epoch 3/50\n",
      "19/19 [==============================] - 8s 409ms/step - loss: 0.9467 - val_loss: 0.0931\n",
      "Epoch 4/50\n",
      "19/19 [==============================] - 8s 410ms/step - loss: 0.9247 - val_loss: 0.0905\n",
      "Epoch 5/50\n",
      "19/19 [==============================] - 8s 409ms/step - loss: 0.9199 - val_loss: 0.0877\n",
      "Epoch 6/50\n",
      "19/19 [==============================] - 8s 410ms/step - loss: 1.0152 - val_loss: 0.0859\n",
      "Epoch 7/50\n",
      "19/19 [==============================] - 8s 408ms/step - loss: 0.9055 - val_loss: 0.0833\n",
      "Epoch 8/50\n",
      "19/19 [==============================] - 8s 409ms/step - loss: 0.8983 - val_loss: 0.0814\n",
      "Epoch 9/50\n",
      "19/19 [==============================] - 8s 410ms/step - loss: 0.8921 - val_loss: 0.0816\n",
      "Epoch 10/50\n",
      "19/19 [==============================] - 8s 410ms/step - loss: 0.8849 - val_loss: 0.0807\n",
      "Epoch 11/50\n",
      "19/19 [==============================] - 8s 407ms/step - loss: 0.8928 - val_loss: 0.0810\n",
      "Epoch 12/50\n",
      "19/19 [==============================] - 8s 410ms/step - loss: 0.8902 - val_loss: 0.0783\n",
      "Epoch 13/50\n",
      "19/19 [==============================] - 8s 415ms/step - loss: 0.8518 - val_loss: 0.0790\n",
      "Epoch 14/50\n",
      "19/19 [==============================] - 8s 412ms/step - loss: 0.8339 - val_loss: 0.0797\n",
      "Epoch 15/50\n",
      "19/19 [==============================] - 8s 417ms/step - loss: 0.8171 - val_loss: 0.0786\n",
      "Epoch 16/50\n",
      "19/19 [==============================] - 8s 411ms/step - loss: 0.7867 - val_loss: 0.0834\n",
      "Epoch 17/50\n",
      "19/19 [==============================] - 8s 412ms/step - loss: 0.8041 - val_loss: 0.0783\n",
      "Epoch 18/50\n",
      "19/19 [==============================] - 8s 411ms/step - loss: 0.7890 - val_loss: 0.0797\n",
      "Epoch 19/50\n",
      "19/19 [==============================] - 8s 417ms/step - loss: 0.7837 - val_loss: 0.0766\n",
      "Epoch 20/50\n",
      "19/19 [==============================] - 8s 414ms/step - loss: 0.7467 - val_loss: 0.0837\n",
      "Epoch 21/50\n",
      "19/19 [==============================] - 8s 413ms/step - loss: 0.6961 - val_loss: 0.0777\n",
      "Epoch 22/50\n",
      "19/19 [==============================] - 8s 420ms/step - loss: 0.6242 - val_loss: 0.0784\n",
      "Epoch 23/50\n",
      "19/19 [==============================] - 8s 412ms/step - loss: 0.6713 - val_loss: 0.0862\n",
      "Epoch 24/50\n",
      "19/19 [==============================] - 8s 415ms/step - loss: 0.6395 - val_loss: 0.0776\n",
      "Epoch 25/50\n",
      "19/19 [==============================] - 8s 411ms/step - loss: 0.7742 - val_loss: 0.0808\n",
      "Epoch 26/50\n",
      "19/19 [==============================] - 8s 415ms/step - loss: 0.7717 - val_loss: 0.0797\n",
      "Epoch 27/50\n",
      "19/19 [==============================] - 8s 410ms/step - loss: 0.6633 - val_loss: 0.0765\n",
      "Epoch 28/50\n",
      "19/19 [==============================] - 8s 412ms/step - loss: 0.6274 - val_loss: 0.0766\n",
      "Epoch 29/50\n",
      "19/19 [==============================] - 8s 411ms/step - loss: 0.5784 - val_loss: 0.0774\n",
      "Epoch 30/50\n",
      "19/19 [==============================] - 8s 413ms/step - loss: 0.5340 - val_loss: 0.0783\n",
      "Epoch 31/50\n",
      "19/19 [==============================] - 8s 413ms/step - loss: 0.4337 - val_loss: 0.0781\n",
      "Epoch 32/50\n",
      "19/19 [==============================] - 8s 423ms/step - loss: 0.6614 - val_loss: 0.0804\n",
      "Epoch 33/50\n",
      "19/19 [==============================] - 8s 420ms/step - loss: 0.8872 - val_loss: 0.0761\n",
      "Epoch 34/50\n",
      "19/19 [==============================] - 8s 430ms/step - loss: 0.7239 - val_loss: 0.0744\n",
      "Epoch 35/50\n",
      "19/19 [==============================] - 8s 427ms/step - loss: 0.5266 - val_loss: 0.0743\n",
      "Epoch 36/50\n",
      "19/19 [==============================] - 8s 434ms/step - loss: 0.4286 - val_loss: 0.0762\n",
      "Epoch 37/50\n",
      "19/19 [==============================] - 8s 406ms/step - loss: 0.5378 - val_loss: 0.0737\n",
      "Epoch 38/50\n",
      "19/19 [==============================] - 8s 411ms/step - loss: 0.4372 - val_loss: 0.0746\n",
      "Epoch 39/50\n",
      "19/19 [==============================] - 8s 411ms/step - loss: 0.4491 - val_loss: 0.0766\n",
      "Epoch 40/50\n",
      "19/19 [==============================] - 8s 404ms/step - loss: 0.7223 - val_loss: 0.0725\n",
      "Epoch 41/50\n",
      "19/19 [==============================] - 8s 417ms/step - loss: 0.5580 - val_loss: 0.0786\n",
      "Epoch 42/50\n",
      "19/19 [==============================] - 9s 474ms/step - loss: 0.9648 - val_loss: 0.0733\n",
      "Epoch 43/50\n",
      "19/19 [==============================] - 12s 611ms/step - loss: 0.5860 - val_loss: 0.0728\n",
      "Epoch 44/50\n",
      "19/19 [==============================] - 12s 629ms/step - loss: 0.4611 - val_loss: 0.0750\n",
      "Epoch 45/50\n",
      "19/19 [==============================] - 14s 719ms/step - loss: 0.3501 - val_loss: 0.0737\n",
      "Epoch 46/50\n",
      "19/19 [==============================] - 15s 774ms/step - loss: 0.3269 - val_loss: 0.0790\n",
      "Epoch 47/50\n",
      "19/19 [==============================] - 14s 739ms/step - loss: 0.3972 - val_loss: 0.0746\n",
      "Epoch 48/50\n",
      "19/19 [==============================] - 13s 708ms/step - loss: 0.3968 - val_loss: 0.0839\n",
      "Epoch 49/50\n",
      "19/19 [==============================] - 10s 512ms/step - loss: 0.3393 - val_loss: 0.0804\n",
      "Epoch 50/50\n",
      "19/19 [==============================] - 8s 415ms/step - loss: 0.2928 - val_loss: 0.0721\n"
     ]
    }
   ],
   "source": [
    "# Train the model\n",
    "history = autoencoder.fit(X_train, X_train, epochs=50, batch_size=32, validation_split=0.1)\n"
   ]
  },
  {
   "cell_type": "code",
   "execution_count": 51,
   "metadata": {},
   "outputs": [
    {
     "name": "stdout",
     "output_type": "stream",
     "text": [
      "18/18 [==============================] - 5s 153ms/step\n"
     ]
    }
   ],
   "source": [
    "import numpy as np\n",
    "\n",
    "# Assuming X_test is your test dataset already prepared\n",
    "predicted = autoencoder.predict(X_test)\n",
    "reconstruction_errors = np.mean(np.abs(predicted - X_test), axis=1)\n"
   ]
  },
  {
   "cell_type": "code",
   "execution_count": 52,
   "metadata": {},
   "outputs": [
    {
     "name": "stdout",
     "output_type": "stream",
     "text": [
      "Anomaly detection threshold: 1.2016736171502953\n"
     ]
    }
   ],
   "source": [
    "threshold = np.mean(reconstruction_errors) + 3*np.std(reconstruction_errors)\n",
    "print(\"Anomaly detection threshold:\", threshold)\n"
   ]
  },
  {
   "cell_type": "code",
   "execution_count": 53,
   "metadata": {},
   "outputs": [
    {
     "name": "stdout",
     "output_type": "stream",
     "text": [
      "Number of detected anomalies: 10\n"
     ]
    }
   ],
   "source": [
    "anomalies = reconstruction_errors > threshold\n",
    "print(\"Number of detected anomalies:\", np.sum(anomalies))\n"
   ]
  },
  {
   "cell_type": "code",
   "execution_count": 56,
   "metadata": {},
   "outputs": [],
   "source": [
    "import numpy as np\n",
    "import matplotlib.pyplot as plt\n",
    "\n",
    "# Assuming reconstruction_errors and threshold are already defined\n",
    "anomalies = reconstruction_errors > threshold\n",
    "any_anomalies = np.any(anomalies)  # Check if there are any True values in anomalies\n"
   ]
  },
  {
   "cell_type": "code",
   "execution_count": 60,
   "metadata": {},
   "outputs": [
    {
     "name": "stdout",
     "output_type": "stream",
     "text": [
      "Length of time_steps: 561\n",
      "Length of reconstruction_errors: 561\n",
      "Length of anomalies array: 561\n"
     ]
    }
   ],
   "source": [
    "print(\"Length of time_steps:\", len(time_steps))\n",
    "print(\"Length of reconstruction_errors:\", len(reconstruction_errors))\n",
    "print(\"Length of anomalies array:\", len(anomalies))\n"
   ]
  },
  {
   "cell_type": "code",
   "execution_count": 62,
   "metadata": {},
   "outputs": [
    {
     "name": "stdout",
     "output_type": "stream",
     "text": [
      "Type of anomalies: bool\n",
      "Sample of anomalies array: [[False]\n",
      " [False]\n",
      " [False]\n",
      " [False]\n",
      " [False]\n",
      " [False]\n",
      " [False]\n",
      " [False]\n",
      " [False]\n",
      " [False]]\n"
     ]
    }
   ],
   "source": [
    "# Assuming reconstruction_errors and threshold are already defined\n",
    "anomalies = reconstruction_errors > threshold\n",
    "print(\"Type of anomalies:\", anomalies.dtype)  # Should output dtype('bool')\n",
    "print(\"Sample of anomalies array:\", anomalies[:10])  # See a few values\n"
   ]
  },
  {
   "cell_type": "code",
   "execution_count": 66,
   "metadata": {},
   "outputs": [
    {
     "name": "stdout",
     "output_type": "stream",
     "text": [
      "Reconstruction Errors Shape: (561, 1)\n"
     ]
    }
   ],
   "source": [
    "print(\"Reconstruction Errors Shape:\", reconstruction_errors.shape)\n"
   ]
  },
  {
   "cell_type": "code",
   "execution_count": 67,
   "metadata": {},
   "outputs": [],
   "source": [
    "reconstruction_errors = reconstruction_errors.flatten()\n"
   ]
  },
  {
   "cell_type": "code",
   "execution_count": 68,
   "metadata": {},
   "outputs": [
    {
     "data": {
      "image/png": "[encoded data removed]",
      "text/plain": [
       "<Figure size 1008x432 with 1 Axes>"
      ]
     },
     "metadata": {
      "needs_background": "light"
     },
     "output_type": "display_data"
    }
   ],
   "source": [
    "import numpy as np\n",
    "import matplotlib.pyplot as plt\n",
    "\n",
    "# Assuming reconstruction_errors and threshold are already defined\n",
    "anomalies = (reconstruction_errors > threshold).flatten()\n",
    "time_steps = np.arange(len(reconstruction_errors))\n",
    "\n",
    "plt.figure(figsize=(14, 6))\n",
    "\n",
    "# Plot the entire reconstruction error line\n",
    "plt.plot(time_steps, reconstruction_errors, label='Reconstruction error', color='blue')\n",
    "\n",
    "# Overlay anomalies in red\n",
    "plt.fill_between(time_steps, reconstruction_errors, threshold, where=anomalies, color='red', step='pre', alpha=0.5)\n",
    "\n",
    "# Add threshold line\n",
    "plt.axhline(y=threshold, color='r', linestyle='--', label='Threshold for anomaly detection')\n",
    "\n",
    "plt.title('Reconstruction Error with Anomaly Highlighting')\n",
    "plt.xlabel('Time Step')\n",
    "plt.ylabel('Reconstruction Error')\n",
    "plt.legend()\n",
    "plt.show()\n"
   ]
  }
 ],
 "metadata": {
  "kernelspec": {
   "display_name": "mlp",
   "language": "python",
   "name": "python3"
  },
  "language_info": {
   "codemirror_mode": {
    "name": "ipython",
    "version": 3
   },
   "file_extension": ".py",
   "mimetype": "text/x-python",
   "name": "python",
   "nbconvert_exporter": "python",
   "pygments_lexer": "ipython3",
   "version": "3.9.16"
  }
 },
 "nbformat": 4,
 "nbformat_minor": 2
}
