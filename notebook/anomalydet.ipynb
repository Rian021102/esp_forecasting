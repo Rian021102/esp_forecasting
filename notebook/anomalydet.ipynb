{
 "cells": [
  {
   "cell_type": "code",
   "execution_count": 51,
   "metadata": {},
   "outputs": [],
   "source": [
    "from keras.layers import LSTM\n",
    "from keras.models import Sequential\n",
    "import numpy as np\n",
    "import pandas as pd\n",
    "import matplotlib.pyplot as plt\n",
    "import seaborn as sns\n",
    "#standardize the data\n",
    "from sklearn.preprocessing import StandardScaler"
   ]
  },
  {
   "cell_type": "code",
   "execution_count": 52,
   "metadata": {},
   "outputs": [],
   "source": [
    "def load_data(path):\n",
    "    df = pd.read_csv(path)\n",
    "    print(df.info())\n",
    "    #convert the date to datetime\n",
    "    df['Date'] = pd.to_datetime(df['Date'])\n",
    "    print(df.head())\n",
    "    print(df.info())\n",
    "    return df\n"
   ]
  },
  {
   "cell_type": "code",
   "execution_count": 53,
   "metadata": {},
   "outputs": [
    {
     "name": "stdout",
     "output_type": "stream",
     "text": [
      "<class 'pandas.core.frame.DataFrame'>\n",
      "RangeIndex: 202978 entries, 0 to 202977\n",
      "Data columns (total 10 columns):\n",
      " #   Column           Non-Null Count   Dtype  \n",
      "---  ------           --------------   -----  \n",
      " 0   Well             202978 non-null  object \n",
      " 1   Date             202978 non-null  object \n",
      " 2   Hours_Online     91217 non-null   float64\n",
      " 3   Freq             79585 non-null   float64\n",
      " 4   Ampere           83274 non-null   float64\n",
      " 5   Volt             76026 non-null   float64\n",
      " 6   Press_Discharge  57558 non-null   float64\n",
      " 7   TM               39661 non-null   float64\n",
      " 8   Vibration        36035 non-null   float64\n",
      " 9   Gross_Rate       85310 non-null   float64\n",
      "dtypes: float64(8), object(2)\n",
      "memory usage: 15.5+ MB\n",
      "None\n",
      "  Well       Date  Hours_Online  Freq  Ampere   Volt  Press_Discharge     TM  \\\n",
      "0  BC1 2011-09-02          24.0   NaN    19.2  343.2              NaN  175.0   \n",
      "1  BC1 2011-09-03          24.0   NaN    18.3  339.6              NaN  177.4   \n",
      "2  BC1 2011-09-04          24.0   NaN    18.0  341.0              NaN  177.0   \n",
      "3  BC1 2011-09-05          24.0   NaN    19.2  343.0              NaN  178.0   \n",
      "4  BC1 2011-09-06          24.0   NaN    18.3  339.6              NaN  178.4   \n",
      "\n",
      "   Vibration   Gross_Rate  \n",
      "0      2.795  1577.005714  \n",
      "1      2.670  1577.005714  \n",
      "2      2.711  1577.005714  \n",
      "3      2.641  1577.005714  \n",
      "4      2.500  1577.005714  \n",
      "<class 'pandas.core.frame.DataFrame'>\n",
      "RangeIndex: 202978 entries, 0 to 202977\n",
      "Data columns (total 10 columns):\n",
      " #   Column           Non-Null Count   Dtype         \n",
      "---  ------           --------------   -----         \n",
      " 0   Well             202978 non-null  object        \n",
      " 1   Date             202978 non-null  datetime64[ns]\n",
      " 2   Hours_Online     91217 non-null   float64       \n",
      " 3   Freq             79585 non-null   float64       \n",
      " 4   Ampere           83274 non-null   float64       \n",
      " 5   Volt             76026 non-null   float64       \n",
      " 6   Press_Discharge  57558 non-null   float64       \n",
      " 7   TM               39661 non-null   float64       \n",
      " 8   Vibration        36035 non-null   float64       \n",
      " 9   Gross_Rate       85310 non-null   float64       \n",
      "dtypes: datetime64[ns](1), float64(8), object(1)\n",
      "memory usage: 15.5+ MB\n",
      "None\n"
     ]
    }
   ],
   "source": [
    "path='/Users/rianrachmanto/pypro/data/esp_new.csv'\n",
    "df = load_data(path)"
   ]
  },
  {
   "cell_type": "code",
   "execution_count": 54,
   "metadata": {},
   "outputs": [],
   "source": [
    "def select_freq(df, well_name):\n",
    "    # Filter the DataFrame for the given well name\n",
    "    df_freq = df[df['Well'] == well_name][['Well', 'Date', 'Volt']]\n",
    "    print(df_freq.head())\n",
    "    return df_freq\n"
   ]
  },
  {
   "cell_type": "code",
   "execution_count": 55,
   "metadata": {},
   "outputs": [
    {
     "name": "stdout",
     "output_type": "stream",
     "text": [
      "     Well       Date   Volt\n",
      "9277  BS3 2011-09-01    NaN\n",
      "9278  BS3 2011-09-02  430.0\n",
      "9279  BS3 2011-09-03  428.4\n",
      "9280  BS3 2011-09-04  421.0\n",
      "9281  BS3 2011-09-05  428.0\n"
     ]
    }
   ],
   "source": [
    "df_freq = select_freq(df, 'BS3')"
   ]
  },
  {
   "cell_type": "code",
   "execution_count": 56,
   "metadata": {},
   "outputs": [],
   "source": [
    "def train_test (df_freq):\n",
    "    #split based on length of the data with 80% training and 20% testing\n",
    "    train_size = int(len(df_freq) * 0.8)\n",
    "    test_size = len(df_freq) - train_size\n",
    "    train, test = df_freq.iloc[0:train_size], df_freq.iloc[train_size:len(df_freq)]\n",
    "    print(train.shape, test.shape)\n",
    "    print(train.head())\n",
    "    return train, test"
   ]
  },
  {
   "cell_type": "code",
   "execution_count": 57,
   "metadata": {},
   "outputs": [
    {
     "name": "stdout",
     "output_type": "stream",
     "text": [
      "(3711, 3) (928, 3)\n",
      "     Well       Date   Volt\n",
      "9277  BS3 2011-09-01    NaN\n",
      "9278  BS3 2011-09-02  430.0\n",
      "9279  BS3 2011-09-03  428.4\n",
      "9280  BS3 2011-09-04  421.0\n",
      "9281  BS3 2011-09-05  428.0\n"
     ]
    }
   ],
   "source": [
    "train, test = train_test(df_freq)"
   ]
  },
  {
   "cell_type": "code",
   "execution_count": 58,
   "metadata": {},
   "outputs": [],
   "source": [
    "def clean_train(train):\n",
    "    #drop all the missing values\n",
    "    train = train.dropna()\n",
    "    print(train.shape)\n",
    "    print(train.head())\n",
    "    return train\n",
    "\n",
    "def clean_test(test):\n",
    "    #drop all the missing values\n",
    "    test = test.dropna()\n",
    "    print(test.shape)\n",
    "    print(test.head())\n",
    "    return test"
   ]
  },
  {
   "cell_type": "code",
   "execution_count": 59,
   "metadata": {},
   "outputs": [
    {
     "name": "stdout",
     "output_type": "stream",
     "text": [
      "(1176, 3)\n",
      "     Well       Date   Volt\n",
      "9278  BS3 2011-09-02  430.0\n",
      "9279  BS3 2011-09-03  428.4\n",
      "9280  BS3 2011-09-04  421.0\n",
      "9281  BS3 2011-09-05  428.0\n",
      "9282  BS3 2011-09-06  420.0\n",
      "(571, 3)\n",
      "      Well       Date   Volt\n",
      "13135  BS3 2022-03-25  329.0\n",
      "13136  BS3 2022-03-26  343.0\n",
      "13142  BS3 2022-04-01  401.0\n",
      "13143  BS3 2022-04-02  401.0\n",
      "13144  BS3 2022-04-03  400.0\n"
     ]
    }
   ],
   "source": [
    "train = clean_train(train)\n",
    "test = clean_test(test)"
   ]
  },
  {
   "cell_type": "code",
   "execution_count": 60,
   "metadata": {},
   "outputs": [],
   "source": [
    "#plot the data as time series\n",
    "def plot_data(train):\n",
    "    plt.figure(figsize=(12,6))\n",
    "    plt.plot(train['Date'], train['Volt'])\n",
    "    plt.title('Frequency vs Time')\n",
    "    plt.ylabel('Frequency')\n",
    "    plt.xlabel('Date')\n",
    "    plt.show()"
   ]
  },
  {
   "cell_type": "code",
   "execution_count": 61,
   "metadata": {},
   "outputs": [
    {
     "data": {
      "image/png": "[encoded data removed]",
      "text/plain": [
       "<Figure size 864x432 with 1 Axes>"
      ]
     },
     "metadata": {
      "needs_background": "light"
     },
     "output_type": "display_data"
    }
   ],
   "source": [
    "plot_data(train)"
   ]
  },
  {
   "cell_type": "code",
   "execution_count": 62,
   "metadata": {},
   "outputs": [],
   "source": [
    "#preprocess train data to standardize the data\n",
    "def preprocess_train(train, test):\n",
    "    # Create copies of the input DataFrames to avoid modifying original data\n",
    "    scaled_train = train.copy()\n",
    "    scaled_test = test.copy()\n",
    "\n",
    "    # Initialize the scaler\n",
    "    scaler = StandardScaler()\n",
    "\n",
    "    # Fit the scaler on the training data\n",
    "    scaler = scaler.fit(train[['Volt']])\n",
    "\n",
    "    # Transform the 'Freq' column for both training and testing data\n",
    "    scaled_train['Volt'] = scaler.transform(train[['Volt']])\n",
    "    scaled_test['Volt'] = scaler.transform(test[['Volt']])\n",
    "\n",
    "    print(scaled_train.head())\n",
    "    return scaled_train, scaled_test\n"
   ]
  },
  {
   "cell_type": "code",
   "execution_count": 63,
   "metadata": {},
   "outputs": [
    {
     "name": "stdout",
     "output_type": "stream",
     "text": [
      "     Well       Date      Volt\n",
      "9278  BS3 2011-09-02  0.315679\n",
      "9279  BS3 2011-09-03  0.275282\n",
      "9280  BS3 2011-09-04  0.088447\n",
      "9281  BS3 2011-09-05  0.265183\n",
      "9282  BS3 2011-09-06  0.063199\n"
     ]
    }
   ],
   "source": [
    "scaled_train,scaled_test = preprocess_train(train,test)"
   ]
  },
  {
   "cell_type": "code",
   "execution_count": 64,
   "metadata": {},
   "outputs": [],
   "source": [
    "import numpy as np\n",
    "\n",
    "def create_sequences(data, n_steps):\n",
    "    X = []\n",
    "    for i in range(len(data) - n_steps):\n",
    "        # Define the end of the sequence\n",
    "        end_ix = i + n_steps\n",
    "        # Gather input and output parts of the pattern\n",
    "        seq_x = data[i:end_ix]\n",
    "        X.append(seq_x)\n",
    "    return np.array(X)\n"
   ]
  },
  {
   "cell_type": "code",
   "execution_count": 65,
   "metadata": {},
   "outputs": [
    {
     "name": "stdout",
     "output_type": "stream",
     "text": [
      "Training data shape: (1152, 24)\n",
      "Test data shape: (547, 24)\n"
     ]
    }
   ],
   "source": [
    "# Assuming you have already called preprocess_train and obtained scaled_train and scaled_test\n",
    "n_steps = 24\n",
    "# Convert DataFrame to numpy array for easier manipulation\n",
    "train_freq = scaled_train['Volt'].values\n",
    "test_freq = scaled_test['Volt'].values\n",
    "\n",
    "# Create sequences\n",
    "X_train = create_sequences(train_freq, n_steps)\n",
    "X_test = create_sequences(test_freq, n_steps)\n",
    "\n",
    "# Print the shapes to understand the dimensions\n",
    "print(\"Training data shape:\", X_train.shape)\n",
    "print(\"Test data shape:\", X_test.shape)\n"
   ]
  },
  {
   "cell_type": "code",
   "execution_count": 66,
   "metadata": {},
   "outputs": [
    {
     "name": "stdout",
     "output_type": "stream",
     "text": [
      "Reshaped training data shape: (1152, 24, 1)\n",
      "Reshaped test data shape: (547, 24, 1)\n"
     ]
    }
   ],
   "source": [
    "# Reshape the data for LSTM model\n",
    "X_train = X_train.reshape((X_train.shape[0], X_train.shape[1], 1))\n",
    "X_test = X_test.reshape((X_test.shape[0], X_test.shape[1], 1))\n",
    "\n",
    "print(\"Reshaped training data shape:\", X_train.shape)\n",
    "print(\"Reshaped test data shape:\", X_test.shape)\n"
   ]
  },
  {
   "cell_type": "code",
   "execution_count": 67,
   "metadata": {},
   "outputs": [
    {
     "name": "stdout",
     "output_type": "stream",
     "text": [
      "WARNING:tensorflow:Layer lstm_4 will not use cuDNN kernels since it doesn't meet the criteria. It will use a generic GPU kernel as fallback when running on GPU.\n"
     ]
    },
    {
     "name": "stdout",
     "output_type": "stream",
     "text": [
      "WARNING:tensorflow:Layer lstm_5 will not use cuDNN kernels since it doesn't meet the criteria. It will use a generic GPU kernel as fallback when running on GPU.\n",
      "Model: \"sequential_8\"\n",
      "_________________________________________________________________\n",
      " Layer (type)                Output Shape              Param #   \n",
      "=================================================================\n",
      " sequential_6 (Sequential)   (None, 24, 32)            4352      \n",
      "                                                                 \n",
      " sequential_7 (Sequential)   (None, 24, 1)             8353      \n",
      "                                                                 \n",
      "=================================================================\n",
      "Total params: 12705 (49.63 KB)\n",
      "Trainable params: 12705 (49.63 KB)\n",
      "Non-trainable params: 0 (0.00 Byte)\n",
      "_________________________________________________________________\n"
     ]
    }
   ],
   "source": [
    "from keras.models import Sequential\n",
    "from keras.layers import LSTM, RepeatVector, TimeDistributed, Dense\n",
    "\n",
    "def build_autoencoder(timesteps, n_features):\n",
    "    # Encoder\n",
    "    encoder = Sequential()\n",
    "    encoder.add(LSTM(32, activation='relu', input_shape=(timesteps, n_features), return_sequences=False))\n",
    "    encoder.add(RepeatVector(timesteps))  # This helps to repeat the context vector for the decoder\n",
    "\n",
    "    # Decoder\n",
    "    decoder = Sequential()\n",
    "    decoder.add(LSTM(32, activation='relu', return_sequences=True))\n",
    "    decoder.add(TimeDistributed(Dense(n_features)))  # Wraps Dense layer to output sequence\n",
    "\n",
    "    # Autoencoder\n",
    "    autoencoder = Sequential([encoder, decoder])\n",
    "    autoencoder.compile(optimizer='adam', loss='mse')\n",
    "\n",
    "    return autoencoder\n",
    "\n",
    "# Define your autoencoder model\n",
    "time_steps = 24  # Number of time steps in each sequence\n",
    "n_features = 1  # You have one feature per time step (Freq)\n",
    "autoencoder = build_autoencoder(time_steps, n_features)\n",
    "autoencoder.summary()  # Print the model architecture\n"
   ]
  },
  {
   "cell_type": "code",
   "execution_count": 68,
   "metadata": {},
   "outputs": [
    {
     "name": "stdout",
     "output_type": "stream",
     "text": [
      "Epoch 1/50\n",
      "33/33 [==============================] - 41s 1s/step - loss: 0.8029 - val_loss: 0.3066\n",
      "Epoch 2/50\n",
      "33/33 [==============================] - 29s 884ms/step - loss: 0.6150 - val_loss: 0.2283\n",
      "Epoch 3/50\n",
      "33/33 [==============================] - 29s 884ms/step - loss: 0.5563 - val_loss: 0.2040\n",
      "Epoch 4/50\n",
      "33/33 [==============================] - 30s 905ms/step - loss: 0.5379 - val_loss: 0.2015\n",
      "Epoch 5/50\n",
      "33/33 [==============================] - 31s 949ms/step - loss: 0.5355 - val_loss: 0.1975\n",
      "Epoch 6/50\n",
      "33/33 [==============================] - 32s 955ms/step - loss: 0.5255 - val_loss: 0.1947\n",
      "Epoch 7/50\n",
      "33/33 [==============================] - 33s 986ms/step - loss: 0.5156 - val_loss: 0.1949\n",
      "Epoch 8/50\n",
      "33/33 [==============================] - 32s 985ms/step - loss: 0.5019 - val_loss: 0.1887\n",
      "Epoch 9/50\n",
      "33/33 [==============================] - 33s 996ms/step - loss: 0.5013 - val_loss: 0.1856\n",
      "Epoch 10/50\n",
      "33/33 [==============================] - 34s 1s/step - loss: 0.4772 - val_loss: 0.1792\n",
      "Epoch 11/50\n",
      "33/33 [==============================] - 37s 1s/step - loss: 0.4554 - val_loss: 0.1669\n",
      "Epoch 12/50\n",
      "33/33 [==============================] - 34s 1s/step - loss: 0.4557 - val_loss: 0.1630\n",
      "Epoch 13/50\n",
      "33/33 [==============================] - 35s 1s/step - loss: 0.4377 - val_loss: 0.1485\n",
      "Epoch 14/50\n",
      "33/33 [==============================] - 33s 995ms/step - loss: 0.4263 - val_loss: 0.1459\n",
      "Epoch 15/50\n",
      "33/33 [==============================] - 32s 984ms/step - loss: 0.4193 - val_loss: 0.1470\n",
      "Epoch 16/50\n",
      "33/33 [==============================] - 32s 983ms/step - loss: 0.4172 - val_loss: 0.1408\n",
      "Epoch 17/50\n",
      "33/33 [==============================] - 32s 983ms/step - loss: 0.4111 - val_loss: 0.1465\n",
      "Epoch 18/50\n",
      "33/33 [==============================] - 33s 992ms/step - loss: 0.4102 - val_loss: 0.1283\n",
      "Epoch 19/50\n",
      "33/33 [==============================] - 33s 988ms/step - loss: 0.4130 - val_loss: 0.1312\n",
      "Epoch 20/50\n",
      "33/33 [==============================] - 33s 1s/step - loss: 0.4026 - val_loss: 0.1348\n",
      "Epoch 21/50\n",
      "33/33 [==============================] - 32s 984ms/step - loss: 0.3916 - val_loss: 0.1510\n",
      "Epoch 22/50\n",
      "33/33 [==============================] - 35s 1s/step - loss: 0.4423 - val_loss: 0.1411\n",
      "Epoch 23/50\n",
      "33/33 [==============================] - 34s 1s/step - loss: 0.4141 - val_loss: 0.1392\n",
      "Epoch 24/50\n",
      "33/33 [==============================] - 33s 1s/step - loss: 0.4091 - val_loss: 0.1320\n",
      "Epoch 25/50\n",
      "33/33 [==============================] - 34s 1s/step - loss: 0.3999 - val_loss: 0.1442\n",
      "Epoch 26/50\n",
      "33/33 [==============================] - 33s 996ms/step - loss: 0.3974 - val_loss: 0.1369\n",
      "Epoch 27/50\n",
      "33/33 [==============================] - 33s 987ms/step - loss: 0.3793 - val_loss: 0.1344\n",
      "Epoch 28/50\n",
      "33/33 [==============================] - 33s 989ms/step - loss: 0.4082 - val_loss: 0.1373\n",
      "Epoch 29/50\n",
      "33/33 [==============================] - 33s 994ms/step - loss: 0.3963 - val_loss: 0.1397\n",
      "Epoch 30/50\n",
      "33/33 [==============================] - 33s 994ms/step - loss: 0.3750 - val_loss: 0.1547\n",
      "Epoch 31/50\n",
      "33/33 [==============================] - 33s 989ms/step - loss: 0.3825 - val_loss: 0.1347\n",
      "Epoch 32/50\n",
      "33/33 [==============================] - 33s 993ms/step - loss: 0.4019 - val_loss: 0.1476\n",
      "Epoch 33/50\n",
      "33/33 [==============================] - 32s 984ms/step - loss: 0.3639 - val_loss: 0.1359\n",
      "Epoch 34/50\n",
      "33/33 [==============================] - 34s 1s/step - loss: 0.3646 - val_loss: 0.1325\n",
      "Epoch 35/50\n",
      "33/33 [==============================] - 35s 1s/step - loss: 0.3735 - val_loss: 0.1368\n",
      "Epoch 36/50\n",
      "33/33 [==============================] - 35s 1s/step - loss: 0.3654 - val_loss: 0.1351\n",
      "Epoch 37/50\n",
      "33/33 [==============================] - 34s 1s/step - loss: 0.3658 - val_loss: 0.1379\n",
      "Epoch 38/50\n",
      "33/33 [==============================] - 35s 1s/step - loss: 0.3696 - val_loss: 0.1425\n",
      "Epoch 39/50\n",
      "33/33 [==============================] - 33s 1s/step - loss: 0.3678 - val_loss: 0.1441\n",
      "Epoch 40/50\n",
      "33/33 [==============================] - 33s 993ms/step - loss: 0.3861 - val_loss: 0.1301\n",
      "Epoch 41/50\n",
      "33/33 [==============================] - 33s 1s/step - loss: 0.3888 - val_loss: 0.1560\n",
      "Epoch 42/50\n",
      "33/33 [==============================] - 33s 995ms/step - loss: 0.3932 - val_loss: 0.1433\n",
      "Epoch 43/50\n",
      "33/33 [==============================] - 33s 997ms/step - loss: 0.3749 - val_loss: 0.1379\n",
      "Epoch 44/50\n",
      "33/33 [==============================] - 33s 1s/step - loss: 0.3922 - val_loss: 0.1472\n",
      "Epoch 45/50\n",
      "33/33 [==============================] - 34s 1s/step - loss: 0.3522 - val_loss: 0.1356\n",
      "Epoch 46/50\n",
      "33/33 [==============================] - 36s 1s/step - loss: 0.3784 - val_loss: 0.1412\n",
      "Epoch 47/50\n",
      "33/33 [==============================] - 35s 1s/step - loss: 0.3885 - val_loss: 0.1400\n",
      "Epoch 48/50\n",
      "33/33 [==============================] - 37s 1s/step - loss: 0.3417 - val_loss: 0.1291\n",
      "Epoch 49/50\n",
      "33/33 [==============================] - 34s 1s/step - loss: 0.3463 - val_loss: 0.1327\n",
      "Epoch 50/50\n",
      "33/33 [==============================] - 34s 1s/step - loss: 0.3646 - val_loss: 0.1356\n"
     ]
    }
   ],
   "source": [
    "# Train the model\n",
    "history = autoencoder.fit(X_train, X_train, epochs=50, batch_size=32, validation_split=0.1)\n"
   ]
  },
  {
   "cell_type": "code",
   "execution_count": 69,
   "metadata": {},
   "outputs": [
    {
     "name": "stdout",
     "output_type": "stream",
     "text": [
      "18/18 [==============================] - 4s 155ms/step\n"
     ]
    }
   ],
   "source": [
    "import numpy as np\n",
    "\n",
    "# Assuming X_test is your test dataset already prepared\n",
    "predicted = autoencoder.predict(X_test)\n",
    "reconstruction_errors = np.mean(np.abs(predicted - X_test), axis=1)\n"
   ]
  },
  {
   "cell_type": "code",
   "execution_count": 70,
   "metadata": {},
   "outputs": [
    {
     "name": "stdout",
     "output_type": "stream",
     "text": [
      "Anomaly detection threshold: 2.4071029439081353\n"
     ]
    }
   ],
   "source": [
    "threshold = np.mean(reconstruction_errors) + 3*np.std(reconstruction_errors)\n",
    "print(\"Anomaly detection threshold:\", threshold)\n"
   ]
  },
  {
   "cell_type": "code",
   "execution_count": 71,
   "metadata": {},
   "outputs": [
    {
     "name": "stdout",
     "output_type": "stream",
     "text": [
      "Number of detected anomalies: 13\n"
     ]
    }
   ],
   "source": [
    "anomalies = reconstruction_errors > threshold\n",
    "print(\"Number of detected anomalies:\", np.sum(anomalies))\n"
   ]
  },
  {
   "cell_type": "code",
   "execution_count": 72,
   "metadata": {},
   "outputs": [],
   "source": [
    "import numpy as np\n",
    "import matplotlib.pyplot as plt\n",
    "\n",
    "# Assuming reconstruction_errors and threshold are already defined\n",
    "anomalies = reconstruction_errors > threshold\n",
    "any_anomalies = np.any(anomalies)  # Check if there are any True values in anomalies\n"
   ]
  },
  {
   "cell_type": "code",
   "execution_count": 73,
   "metadata": {},
   "outputs": [
    {
     "name": "stdout",
     "output_type": "stream",
     "text": [
      "Type of anomalies: bool\n",
      "Sample of anomalies array: [[False]\n",
      " [False]\n",
      " [False]\n",
      " [False]\n",
      " [False]\n",
      " [False]\n",
      " [False]\n",
      " [False]\n",
      " [False]\n",
      " [False]]\n"
     ]
    }
   ],
   "source": [
    "# Assuming reconstruction_errors and threshold are already defined\n",
    "anomalies = reconstruction_errors > threshold\n",
    "print(\"Type of anomalies:\", anomalies.dtype)  # Should output dtype('bool')\n",
    "print(\"Sample of anomalies array:\", anomalies[:10])  # See a few values\n"
   ]
  },
  {
   "cell_type": "code",
   "execution_count": 74,
   "metadata": {},
   "outputs": [
    {
     "name": "stdout",
     "output_type": "stream",
     "text": [
      "Reconstruction Errors Shape: (547, 1)\n"
     ]
    }
   ],
   "source": [
    "print(\"Reconstruction Errors Shape:\", reconstruction_errors.shape)\n"
   ]
  },
  {
   "cell_type": "code",
   "execution_count": 75,
   "metadata": {},
   "outputs": [],
   "source": [
    "reconstruction_errors = reconstruction_errors.flatten()\n"
   ]
  },
  {
   "cell_type": "code",
   "execution_count": 76,
   "metadata": {},
   "outputs": [
    {
     "data": {
      "image/png": "[encoded data removed]",
      "text/plain": [
       "<Figure size 1008x432 with 1 Axes>"
      ]
     },
     "metadata": {
      "needs_background": "light"
     },
     "output_type": "display_data"
    }
   ],
   "source": [
    "import numpy as np\n",
    "import matplotlib.pyplot as plt\n",
    "\n",
    "# Assuming reconstruction_errors and threshold are already defined\n",
    "anomalies = (reconstruction_errors > threshold).flatten()\n",
    "time_steps = np.arange(len(reconstruction_errors))\n",
    "\n",
    "plt.figure(figsize=(14, 6))\n",
    "\n",
    "# Plot the entire reconstruction error line\n",
    "plt.plot(time_steps, reconstruction_errors, label='Reconstruction error', color='blue')\n",
    "\n",
    "# Overlay anomalies in red\n",
    "plt.fill_between(time_steps, reconstruction_errors, threshold, where=anomalies, color='red', step='pre', alpha=0.5)\n",
    "\n",
    "# Add threshold line\n",
    "plt.axhline(y=threshold, color='r', linestyle='--', label='Threshold for anomaly detection')\n",
    "\n",
    "plt.title('Reconstruction Error with Anomaly Highlighting')\n",
    "plt.xlabel('Time Step')\n",
    "plt.ylabel('Reconstruction Error')\n",
    "plt.legend()\n",
    "plt.show()\n"
   ]
  }
 ],
 "metadata": {
  "kernelspec": {
   "display_name": "mlp",
   "language": "python",
   "name": "python3"
  },
  "language_info": {
   "codemirror_mode": {
    "name": "ipython",
    "version": 3
   },
   "file_extension": ".py",
   "mimetype": "text/x-python",
   "name": "python",
   "nbconvert_exporter": "python",
   "pygments_lexer": "ipython3",
   "version": "3.9.16"
  }
 },
 "nbformat": 4,
 "nbformat_minor": 2
}
